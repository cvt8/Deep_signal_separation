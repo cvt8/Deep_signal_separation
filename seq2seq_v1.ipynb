{
 "cells": [
  {
   "cell_type": "code",
   "execution_count": null,
   "metadata": {},
   "outputs": [
    {
     "name": "stdout",
     "output_type": "stream",
     "text": [
      "Device : cpu\n"
     ]
    }
   ],
   "source": [
    "from pathlib import Path\n",
    "import numpy as np\n",
    "import torch\n",
    "import torch.nn as nn\n",
    "from torch.utils.data import DataLoader\n",
    "from tqdm import tqdm\n",
    "import time\n",
    "\n",
    "try:\n",
    "  from torchmetrics.audio import SignalDistortionRatio\n",
    "except:\n",
    "  !pip install torchmetrics\n",
    "  from torchmetrics.audio import SignalDistortionRatio\n",
    "\n",
    "%matplotlib ipympl\n",
    "\n",
    "import ipywidgets as widgets\n",
    "import matplotlib.pyplot as plt\n",
    "import matplotlib.gridspec as gridspec\n",
    "from matplotlib.axes._axes import Axes\n",
    "from matplotlib.ticker import MaxNLocator, FormatStrFormatter\n",
    "\n",
    "from IPython.display import Audio\n",
    "from scipy.io import wavfile\n",
    "from scipy.signal import stft,istft\n",
    "\n",
    "\n",
    "device=torch.device(\"cuda\" if torch.cuda.is_available() else \"cpu\")\n",
    "print(\"Device :\",device)"
   ]
  },
  {
   "cell_type": "markdown",
   "metadata": {},
   "source": [
    "<font color=\"red\" size=6><b>Meta paramètres</b></font>\n",
    "\n",
    "Comme calculer les spectrogrammes prend du temps, nous pouvons les calculer une fois pour toute puis les sauvegarder sur le disque. Toutefois, <font color=\"red\"><b>ceci triple l'espace occupé sur disque</b></font>: passant de 6.3 Go à 17.2 Go. Veuillez donc préciser le paramètre `SAVE_SPECTROGRAMS` selon si vous pouvez utiliser cet espace."
   ]
  },
  {
   "cell_type": "code",
   "execution_count": 2,
   "metadata": {},
   "outputs": [],
   "source": [
    "DIRECTORY = Path(\"source_separation\")\n",
    "SAVE_SPECTROGRAMS = True"
   ]
  },
  {
   "cell_type": "markdown",
   "metadata": {},
   "source": [
    "# Chargement des signaux, Visualisation et Dataset"
   ]
  },
  {
   "cell_type": "markdown",
   "metadata": {},
   "source": [
    "## Chargement des signaux et spectrogrammes"
   ]
  },
  {
   "cell_type": "code",
   "execution_count": 3,
   "metadata": {},
   "outputs": [],
   "source": [
    "train_folder = DIRECTORY / \"train\"\n",
    "train_small_folder = DIRECTORY / \"train_small\"\n",
    "test_folder = DIRECTORY / \"test\"\n",
    "get_path = lambda folder,i : folder / (\"000\"+str(i))[-4:]\n",
    "\n",
    "datasets_sizes = {\n",
    "    train_small_folder : 50,\n",
    "    train_folder : 5000,\n",
    "    test_folder : 2000\n",
    "}"
   ]
  },
  {
   "cell_type": "markdown",
   "metadata": {},
   "source": [
    "Tous les signaux ont la même fréquence d'échantillonage, même longueur; et donc les mêmes f et t échantillonés pour le Spectrogramme."
   ]
  },
  {
   "cell_type": "code",
   "execution_count": 4,
   "metadata": {},
   "outputs": [
    {
     "name": "stdout",
     "output_type": "stream",
     "text": [
      "Spectrogram shape: (257, 320)\n",
      "Original signal (80000,)\n",
      "Reconstructed signal (80000,)\n",
      "Allclose True\n"
     ]
    }
   ],
   "source": [
    "stft_kwargs = {\n",
    "    \"nperseg\":400,\n",
    "    \"nfft\":512,\n",
    "    \"noverlap\":149 #86,\n",
    "}\n",
    "def check_all_same(folder=train_small_folder):\n",
    "    f_ref = None\n",
    "    t_ref = None\n",
    "    for i in range(datasets_sizes[train_small_folder]):\n",
    "        fe,signal = wavfile.read(get_path(train_small_folder,i) / \"voice.wav\")\n",
    "        len_signal = len(signal)\n",
    "        f_spec,t_spec,spec = stft(\n",
    "            signal,fs=fe,**stft_kwargs)\n",
    "        if f_ref is None: f_ref = f_spec ; t_ref = t_spec\n",
    "        assert np.allclose(f_spec,f_ref)\n",
    "        assert np.allclose(t_spec,t_ref)\n",
    "    return fe,f_ref,t_ref\n",
    "\n",
    "fe,f_ref,t_ref = check_all_same()\n",
    "get_spectrogram = lambda signal : stft(signal,fs=fe,**stft_kwargs)[2]\n",
    "reverse_spectrogram = lambda spec : istft(spec,fe,**stft_kwargs)[1][:80000]\n",
    "\n",
    "# Pour vérifier que le spectrogramme est bien inversible:\n",
    "def test():\n",
    "    i = np.random.randint(0,datasets_sizes[train_folder])\n",
    "    signal = wavfile.read(get_path(train_folder,i)/\"voice.wav\")[1]\n",
    "    spec = get_spectrogram(signal)\n",
    "    resignal = reverse_spectrogram(spec)\n",
    "    print(\"Spectrogram shape:\",spec.shape)\n",
    "    print(\"Original signal\",signal.shape)\n",
    "    print(\"Reconstructed signal\",resignal.shape)\n",
    "    print(\"Allclose\",np.allclose(signal,resignal))\n",
    "test()"
   ]
  },
  {
   "cell_type": "code",
   "execution_count": 5,
   "metadata": {},
   "outputs": [],
   "source": [
    "def torch_load(file):\n",
    "    # depending on torch.__version__ you may need a 'weights_only=True' argument\n",
    "    # to avoid a warning (and in old versions this kwarg doesn't exist)\n",
    "    # I'm not sure since which version this warning exists,\n",
    "    # so I'm doing a try/except instead of a if version>2.1: ...\n",
    "    try:\n",
    "        return torch.load(file,weights_only=True)\n",
    "    except:\n",
    "        return torch.load(file)\n",
    "\n",
    "def load_signal_folder(folder: Path,\n",
    "        load_signals=True,\n",
    "        load_spectrograms=True) -> dict[str,dict]:\n",
    "    \"\"\"\n",
    "    Return a dictionary with 3 sub dicts: \"voice\", \"noise\" and \"mix\"; and an \"SNR\" key.\n",
    "    Each sub dict has 3 keys: \"filename\", \"signal\" and \"spectrogram\" \n",
    "    (except if load_signals or load_spectrograms are set to False)\n",
    "    \"\"\"\n",
    "    keys = [\"voice\",\"noise\",\"mix\"]\n",
    "    res = dict((k,dict()) for k in keys)\n",
    "    for f in folder.iterdir():\n",
    "        assert f.is_file()\n",
    "        if \"voice\" in f.name: key = \"voice\"\n",
    "        elif \"noise\" in f.name: key = \"noise\"\n",
    "        else: \n",
    "            key = \"mix\"\n",
    "            if f.suffix == \".wav\":\n",
    "                res[\"SNR\"] = f.name.removesuffix(\".wav\").split(\"_\")[-1]\n",
    "        if f.suffix == \".wav\" and load_signals:\n",
    "            fe,signal = wavfile.read(f)\n",
    "            res[key][\"filename\"] = f.name\n",
    "            res[key][\"signal\"] = signal\n",
    "        elif f.suffix == \".pt\" and SAVE_SPECTROGRAMS and load_spectrograms: \n",
    "            # when SAVE_SPECTROGRAMS is False, we shouldn't be able to load them \n",
    "            # to save time, otherwise it's cheating.\n",
    "            res[key][\"spectrogram\"] = torch_load(f)\n",
    "    # Create missing spectrograms\n",
    "    if load_spectrograms:\n",
    "        for key in keys:\n",
    "            if \"spectrogram\" not in res[key]:\n",
    "                assert load_signals\n",
    "                spec_abs = abs(get_spectrogram(res[key][\"signal\"]))\n",
    "                res[key][\"spectrogram\"] = spec_abs\n",
    "                if SAVE_SPECTROGRAMS:\n",
    "                    torch.save(torch.tensor(spec_abs),folder / f\"{key}_spectrogram.pt\")\n",
    "    return res\n",
    "\n",
    "\n",
    "def remove_all_spectrograms():\n",
    "    for folder in [train_folder,train_small_folder,test_folder]:\n",
    "        for i in range(datasets_sizes[folder]):\n",
    "            folder_i: Path = get_path(folder,i)\n",
    "            for f in folder_i.iterdir():\n",
    "                if \"spectrogram\" in f.name:\n",
    "                    f.unlink()"
   ]
  },
  {
   "cell_type": "markdown",
   "metadata": {},
   "source": [
    "Comme calculer les spectrogrammes prend du temps, nous pouvons les calculer une fois pour toute, en sauvegardant toutes les amplitudes des spectrogrammes sur disque (puisque l'apprentissage travaille avec les amplitudes, pas besoin de sauvegarder la phase). Attention, <font color=\"red\"><b>ceci double l'espace occupé sur disque</b></font>: passant de 6.3 Go à 12.8 Go.\n",
    "Pour les retirer utiliser: `remove_all_spectrograms()`."
   ]
  },
  {
   "cell_type": "code",
   "execution_count": 6,
   "metadata": {},
   "outputs": [],
   "source": [
    "def create_spectrograms(folder: Path):\n",
    "    if SAVE_SPECTROGRAMS and not (folder/\"0000\"/\"voice_spectrogram.pt\").exists():\n",
    "        for i in range(datasets_sizes[folder]):\n",
    "            load_signal_folder(get_path(folder,i))\n",
    "\n",
    "create_spectrograms(train_small_folder)\n",
    "create_spectrograms(test_folder)\n",
    "create_spectrograms(train_folder)"
   ]
  },
  {
   "cell_type": "code",
   "execution_count": 7,
   "metadata": {},
   "outputs": [
    {
     "name": "stdout",
     "output_type": "stream",
     "text": [
      "Première fois:\n"
     ]
    },
    {
     "name": "stderr",
     "output_type": "stream",
     "text": [
      "/media/theotime/ForLinux/theotime/miniconda3/envs/simple/lib/python3.10/site-packages/torch/_utils.py:831: UserWarning: TypedStorage is deprecated. It will be removed in the future and UntypedStorage will be the only storage class. This should only matter to you if you are using storages directly.  To access UntypedStorage directly, use tensor.untyped_storage() instead of tensor.storage()\n",
      "  return self.fget.__get__(instance, owner)()\n"
     ]
    },
    {
     "name": "stdout",
     "output_type": "stream",
     "text": [
      "Temps total pour load 2000 signaux: 3.1146355379569286\n",
      "Temps total pour en calculer les spectrogrammes: 2.4405160690876073\n",
      "Comparé au temps pour charger les spectrogrammes: 3.529038527089142\n",
      "\n",
      "Deuxième fois:\n",
      "Temps total pour load 2000 signaux: 0.23970157097937772\n",
      "Temps total pour en calculer les spectrogrammes: 2.0929927630531893\n",
      "Comparé au temps pour charger les spectrogrammes: 0.5653339989403321\n"
     ]
    }
   ],
   "source": [
    "def compute_time(folder):\n",
    "    time_load_signal = 0\n",
    "    time_load_spec = 0\n",
    "    time_spec = 0\n",
    "    start = time.perf_counter()\n",
    "    for i in range(datasets_sizes[folder]):\n",
    "        fe,signal = wavfile.read(get_path(folder,i) / \"voice.wav\")\n",
    "        time_load_signal += time.perf_counter() - start ; start = time.perf_counter()\n",
    "        path_spec: Path = get_path(folder,i) / \"voice_spectrogram.pt\"\n",
    "        if path_spec.exists():\n",
    "            _ = torch_load(path_spec)\n",
    "        time_load_spec += time.perf_counter() - start ; start = time.perf_counter()\n",
    "        _ = get_spectrogram(signal)\n",
    "        time_spec += time.perf_counter() - start ; start = time.perf_counter()\n",
    "\n",
    "    print(f\"Temps total pour load {datasets_sizes[folder]} signaux: {time_load_signal}\")\n",
    "    print(f\"Temps total pour en calculer les spectrogrammes: {time_spec}\")\n",
    "    print(f\"Comparé au temps pour charger les spectrogrammes: {time_load_spec}\")\n",
    "\n",
    "print(\"Première fois:\")\n",
    "compute_time(test_folder)\n",
    "print(\"\\nDeuxième fois:\")\n",
    "compute_time(test_folder)"
   ]
  },
  {
   "cell_type": "markdown",
   "metadata": {},
   "source": [
    "On voit que charger les spectrogrammes pré-calculés est plus rapide que de les calculer à chaque fois. On note aussi une grosse différence entre la première fois qu'un fichier est chargé et la seconde, j'imagine que le système place les derniers fichiers chargés dans le cache (recharger le notebook n'y change rien, donc la différence n'apparait que la toute première fois)"
   ]
  },
  {
   "cell_type": "markdown",
   "metadata": {},
   "source": [
    "## Visualization"
   ]
  },
  {
   "cell_type": "markdown",
   "metadata": {},
   "source": [
    "<font color=\"green\">Note: les versions très récentes de `ipympl` ont une erreur de frappe dans le code, avec une variable nommé \"buttons\" au lieu de \"button\". Ainsi, si vous avez une version instable de `ipympl`, il se peut que d'un coup la cellule interactive ci-dessous écrivent des dizaines d'erreurs à la chaine. Nous n'avons pas trouvé ce qui les déclenche, mais vous pouvez les ignorer (puisqu'elles n'empechent pas la cellule de tourner), sinon vous pouvez simplement ouvrir le fichier d'où vient l'erreur (en cliquant sur la ligne d'erreur qui s'affiche des dizaines de fois), et changé \"buttons\", par \"button\".</font>"
   ]
  },
  {
   "cell_type": "code",
   "execution_count": 8,
   "metadata": {},
   "outputs": [
    {
     "data": {
      "application/vnd.jupyter.widget-view+json": {
       "model_id": "d8c3aa92807a41dab0b884c64590fbcc",
       "version_major": 2,
       "version_minor": 0
      },
      "text/plain": [
       "interactive(children=(IntSlider(value=1, description='i', max=49), Output()), _dom_classes=('widget-interact',…"
      ]
     },
     "metadata": {},
     "output_type": "display_data"
    }
   ],
   "source": [
    "def visualize_signal(folder):\n",
    "    signals = load_signal_folder(folder)\n",
    "    colorbars = []\n",
    "    for ax,name in zip(axs,[\"voice\",\"noise\",\"mix\"]):\n",
    "        spec_dB = 10*np.log10(signals[name][\"spectrogram\"].numpy())\n",
    "        plt_obj = ax.pcolormesh(\n",
    "            t_ref,f_ref,spec_dB,\n",
    "            vmax=np.percentile(spec_dB,99),\n",
    "            vmin=np.percentile(spec_dB,10))\n",
    "        colorbars.append(plt.colorbar(plt_obj,ax=ax))\n",
    "        ax.set_title(signals[name][\"filename\"])\n",
    "        ax.tick_params(axis='both', which='major', labelsize=4)\n",
    "        colorbars[-1].ax.tick_params(axis='both', which='major', labelsize=4)\n",
    "        ax.set_xlabel(\"Temps (ms)\",fontsize=4)\n",
    "        ax.set_ylabel(\"Fréquence (GHz)\",fontsize=4)\n",
    "    return colorbars\n",
    "\n",
    "\n",
    "folder = train_small_folder\n",
    "plt.close(\"viz\")\n",
    "fig_viz = plt.figure(\"viz\",figsize=(7,2.5))\n",
    "gs = gridspec.GridSpec(2,3) # to get good control of the color bars\n",
    "ax_slices = [np.s_[:,i] for i in range(3)]\n",
    "axs = [fig_viz.add_subplot(gs[sli]) for sli in ax_slices]\n",
    "colorbars = []\n",
    "\n",
    "@widgets.interact(i=(0,datasets_sizes[folder]-1,1))\n",
    "def update(i=1):\n",
    "    for ax in axs: ax.cla()\n",
    "    global colorbars\n",
    "    fig_viz = plt.figure(\"viz\")\n",
    "    plt.title(\"\")\n",
    "    try: \n",
    "        if colorbars != []:\n",
    "            for colorbar in colorbars:\n",
    "                fig_viz.delaxes(colorbar.ax)\n",
    "            gs = gridspec.GridSpec(2,3)\n",
    "            for ax,sli in zip(axs,ax_slices):\n",
    "                ax.set_position(gs[sli].get_position(fig_viz))\n",
    "                ax.set_subplotspec(gs[sli])\n",
    "    except:\n",
    "        print('got an error')\n",
    "        pass\n",
    "    folder_i = get_path(folder,i)\n",
    "    colorbars = visualize_signal(folder_i)\n",
    "    fig_viz.suptitle(f\"Spectogrammes pour {Path(folder_i.parent.name)/folder_i.name}\")\n",
    "    fig_viz.tight_layout()\n",
    "    plt.show()\n",
    "    \n"
   ]
  },
  {
   "cell_type": "markdown",
   "metadata": {},
   "source": [
    "## Dataset"
   ]
  },
  {
   "cell_type": "code",
   "execution_count": 9,
   "metadata": {},
   "outputs": [],
   "source": [
    "class MyDataset(torch.utils.data.Dataset):\n",
    "    def __init__(self,\n",
    "            folder: Path,\n",
    "            load_signals=True,\n",
    "            load_spectrograms=False):\n",
    "        self.folder = folder\n",
    "        self.load_signals = load_signals\n",
    "        self.load_spectrograms = load_spectrograms\n",
    "            \n",
    "    def __len__(self):\n",
    "        return datasets_sizes[self.folder]\n",
    "    \n",
    "    def __getitem__(self,i):\n",
    "        d = load_signal_folder(\n",
    "            get_path(self.folder,i),\n",
    "            load_signals=self.load_signals,\n",
    "            load_spectrograms=self.load_spectrograms)\n",
    "        ret = []\n",
    "        for name in [\"voice\",\"noise\",\"mix\"]:\n",
    "            if self.load_signals:\n",
    "                ret.append(d[name][\"signal\"])\n",
    "            if self.load_spectrograms:\n",
    "                ret.append(d[name][\"spectrogram\"])\n",
    "        ret.append(d[\"SNR\"])\n",
    "        return ret"
   ]
  },
  {
   "cell_type": "markdown",
   "metadata": {},
   "source": [
    "Le Dataset peut contenir les signaux et/ou les spectrogrammes. De sorte à ne charger que le nécessaire. Exemple si on veut tout charger:"
   ]
  },
  {
   "cell_type": "code",
   "execution_count": 28,
   "metadata": {},
   "outputs": [
    {
     "name": "stdout",
     "output_type": "stream",
     "text": [
      "Dataset length: 5000\n",
      "Signal's shape:  torch.Size([32, 80000])\n",
      "Spectrogram's shape:  torch.Size([32, 257, 320])\n",
      "SNRs : ('4', '-4', '2', '-3', '-4', '-3', '2', '-2', '0', '1', '0', '0', '3', '1', '0', '2', '-2', '0', '3', '-2', '-2', '1', '0', '3', '-1', '-1', '-2', '0', '-3', '-2', '1', '3')\n"
     ]
    }
   ],
   "source": [
    "def test():\n",
    "    train_dataset = MyDataset(train_folder,load_signals=True,load_spectrograms=True)\n",
    "    train_dataloader = DataLoader(train_dataset,batch_size=32,shuffle=True)\n",
    "    print(\"Dataset length:\",len(train_dataset))\n",
    "    for voice_signal,voice_spec,noise_signal,noise_spec,mix_signal,mix_spec,snr in train_dataloader:\n",
    "        print(\"Signal's shape: \",voice_signal.shape)\n",
    "        print(\"Spectrogram's shape: \",voice_spec.shape)\n",
    "        print(\"SNRs :\",snr)\n",
    "        break\n",
    "\n",
    "test()"
   ]
  },
  {
   "cell_type": "markdown",
   "metadata": {},
   "source": [
    "# Seq2Seq using a U-Net: Singing Voice Separation With Deep U-Net Convolutional Networks\n",
    "\n",
    "D'après le [papier de A. Jansson et al](https://openaccess.city.ac.uk/id/eprint/19289/1/7bb8d1600fba70dd79408775cd0c37a4ff62.pdf)\n",
    "\n",
    "Et pour [l'architecture](https://github.com/phillipi/pix2pix/blob/master/models.lua) (qui vient du papier [Image-to-Image Translation with Conditional Adversarial Networks](https://arxiv.org/pdf/1611.07004))"
   ]
  },
  {
   "cell_type": "markdown",
   "metadata": {},
   "source": [
    "<font color=\"green\"><b>Remarque / Astuce</b></font>:\n",
    "Le réseau UNet divise la matrice par des puissances de 2, ici $2^6=64$, puis remultiplie d'autant. Ainsi, pour garder la même dimension en sortie, il est nécessaire que la dimension de la matrice d'entrée soit un multiple de 64. C'est pourquoi pour calculer les spectrogrammes nous prenons un `noverlap=149` (et non 100 comme indiqué dans le cours), ce qui donne $320 = 64*5$ temps d'échantillon (la 2nd dimension). (`noverlap=86` donne $256$ mais n'est pas toujours inversible...). Concernant la 1ère dimension, elle est à $257$: nous oublierons la dernière valeur (ce qui ramène à $256 = 64 * 4$), et en sortie le masque prend la même valeur en fréquence 257 qu'en fréquence 256, pas idéal..."
   ]
  },
  {
   "cell_type": "code",
   "execution_count": 11,
   "metadata": {},
   "outputs": [],
   "source": [
    "def change_dim_257_to_256(x):\n",
    "    return x[...,:256,:]\n",
    "\n",
    "def change_dim_256_to_257(y):\n",
    "    return torch.cat([y,y[...,-1,:].unsqueeze(-2)],-2)"
   ]
  },
  {
   "cell_type": "code",
   "execution_count": 33,
   "metadata": {},
   "outputs": [],
   "source": [
    "class OurUNet(torch.nn.Module):\n",
    "    def __init__(self,n_levels=5):\n",
    "        super().__init__()\n",
    "        self.n_levels = n_levels\n",
    "        self.leaky_relu = nn.LeakyReLU(0.2)\n",
    "        self.drop_out = nn.Dropout(0.5)\n",
    "        ngf = 16\n",
    "        nb_C = [ngf*2**i for i in range(n_levels+1)]\n",
    "\n",
    "        # Partie Descendante\n",
    "        self.down_convs = nn.ModuleList()\n",
    "        self.down_norms = nn.ModuleList()\n",
    "        self.first_conv = nn.Conv2d(1,ngf,5,2,2)\n",
    "        for i in range(n_levels):\n",
    "            self.down_convs.append(nn.Conv2d(\n",
    "                in_channels=nb_C[i],\n",
    "                out_channels=nb_C[i+1],\n",
    "                kernel_size=(5,5),\n",
    "                stride=2,\n",
    "                padding=5//2,\n",
    "            ))\n",
    "            if i < n_levels-1:\n",
    "                self.down_norms.append(nn.BatchNorm2d(nb_C[i+1]))\n",
    "\n",
    "        # Partie Ascendante\n",
    "        self.up_convs = nn.ModuleList()\n",
    "        self.up_norms = nn.ModuleList()\n",
    "        self.last_conv = nn.ConvTranspose2d(2*ngf,1,5,2,5//2,output_padding=1)\n",
    "        for i in range(n_levels,0,-1):\n",
    "            self.up_convs.append(nn.ConvTranspose2d(\n",
    "                in_channels=2*nb_C[i] if i<n_levels else nb_C[i],\n",
    "                out_channels=nb_C[i-1],\n",
    "                kernel_size=(5,5),\n",
    "                stride=2,\n",
    "                padding=5//2,\n",
    "                output_padding=1\n",
    "            ))\n",
    "            self.up_norms.append(nn.BatchNorm2d(nb_C[i-1]))\n",
    "\n",
    "\n",
    "\n",
    "    def forward(self,spec: torch.Tensor,print_shapes=False):\n",
    "        # Preprocess:\n",
    "        if len(spec.shape)==2:\n",
    "            has_batch_dim = False\n",
    "            spec = spec.unsqueeze(0)\n",
    "        else:\n",
    "            has_batch_dim = True\n",
    "        mask = change_dim_257_to_256(spec) # => Shape (B,256,320)\n",
    "        mask = mask.unsqueeze(1) # => Shape (B,1,256,320)\n",
    "        if print_shapes: print(mask.shape)\n",
    "\n",
    "        # Partie Descendante\n",
    "        mask = self.first_conv(mask)\n",
    "        stack = [mask]\n",
    "        if print_shapes: print(mask.shape)\n",
    "        for i in range(self.n_levels):\n",
    "            mask = self.leaky_relu(mask)\n",
    "            mask = self.down_convs[i](mask)\n",
    "            if i < self.n_levels-1:\n",
    "                mask = self.down_norms[i](mask)\n",
    "                stack.append(mask)\n",
    "            if print_shapes: print(mask.shape)\n",
    "\n",
    "        if print_shapes: print(\"-\")\n",
    "        # Partie Ascendante\n",
    "        for i in range(self.n_levels,0,-1):\n",
    "            if i < self.n_levels:\n",
    "                mask = torch.cat([mask,stack.pop()],dim=1)\n",
    "            mask = torch.relu(mask)\n",
    "            mask = self.up_convs[self.n_levels-i](mask)\n",
    "            mask = self.up_norms[self.n_levels-i](mask)\n",
    "            if self.n_levels-i < 3:\n",
    "                mask = self.drop_out(mask)\n",
    "            if print_shapes: print(mask.shape)\n",
    "        mask = torch.cat([mask,stack.pop()],dim=1)\n",
    "        mask = torch.relu(mask)\n",
    "        mask = self.last_conv(mask)\n",
    "        if print_shapes: print(mask.shape)\n",
    "\n",
    "        # Postprocess:\n",
    "        mask = mask.squeeze(1) # => Shape (B,256,320)\n",
    "        mask = torch.nn.functional.sigmoid(mask)\n",
    "        mask = change_dim_256_to_257(mask) # => Shape (B,257,320)\n",
    "        if not has_batch_dim:\n",
    "            mask = mask.squeeze(0)\n",
    "        if print_shapes: print(\"Output shape:\",mask.shape)\n",
    "        return mask"
   ]
  },
  {
   "cell_type": "code",
   "execution_count": 34,
   "metadata": {},
   "outputs": [
    {
     "name": "stdout",
     "output_type": "stream",
     "text": [
      "torch.Size([32, 1, 256, 320])\n",
      "torch.Size([32, 16, 128, 160])\n",
      "torch.Size([32, 32, 64, 80])\n",
      "torch.Size([32, 64, 32, 40])\n",
      "torch.Size([32, 128, 16, 20])\n",
      "torch.Size([32, 256, 8, 10])\n",
      "torch.Size([32, 512, 4, 5])\n",
      "-\n",
      "torch.Size([32, 256, 8, 10])\n",
      "torch.Size([32, 128, 16, 20])\n",
      "torch.Size([32, 64, 32, 40])\n",
      "torch.Size([32, 32, 64, 80])\n",
      "torch.Size([32, 16, 128, 160])\n",
      "torch.Size([32, 1, 256, 320])\n",
      "Output shape: torch.Size([32, 257, 320])\n"
     ]
    }
   ],
   "source": [
    "def test():\n",
    "    model = OurUNet().to(device)\n",
    "    train_dataset = MyDataset(train_folder,load_signals=False,load_spectrograms=True)\n",
    "    train_dataloader = DataLoader(train_dataset,batch_size=32,shuffle=True)\n",
    "    for voice_spec,noise_spec,mix_spec,snr in train_dataloader:\n",
    "        mask = model(voice_spec,print_shapes=True)\n",
    "        break\n",
    "test()"
   ]
  },
  {
   "cell_type": "markdown",
   "metadata": {},
   "source": [
    "<font color=\"Green\"><b>Remarque</b></font>\n",
    "Le papier original utilise un Modèle par source, donc ici ce serait 1 pour la voix et 1 pour le bruit, dans l'idée de pouvoir étendre à plus de sources. Pour limiter le temps d'entrainement (ne pas le doubler), nous n'utilisons ici qu'un seul modèle: le masque prédit sert à retrouver la voix, et (1-masque) donne le bruit. La fonction de perte s'applique sur les 2 signaux. "
   ]
  },
  {
   "cell_type": "code",
   "execution_count": 71,
   "metadata": {},
   "outputs": [],
   "source": [
    "def source_separation(model: OurUNet,mix_signal):\n",
    "    # Use the trained model to process the mixed signal\n",
    "    mix_spec = get_spectrogram(mix_signal)\n",
    "    mix_spec_abs = abs(torch.tensor(mix_spec).to(device))\n",
    "    mix_spec_phase = np.angle(mix_spec)\n",
    "    with torch.no_grad():\n",
    "        mask = model(mix_spec_abs)\n",
    "    # Voice:\n",
    "    voice_spec_abs = mask * mix_spec_abs\n",
    "    voice_spec = voice_spec_abs.numpy() * np.exp(1j*mix_spec_phase)\n",
    "    voice_signal = reverse_spectrogram(voice_spec)\n",
    "    # Noise:\n",
    "    noise_spec_abs = (1-mask) * mix_spec_abs\n",
    "    noise_spec = noise_spec_abs.numpy() * np.exp(1j*mix_spec_phase)\n",
    "    noise_signal = reverse_spectrogram(noise_spec)\n",
    "    return voice_spec_abs,voice_signal,noise_spec_abs,noise_signal\n",
    "    \n",
    "SDR = SignalDistortionRatio().to(device)\n",
    "def NSDR(pred_S,ref_S,mix_S):\n",
    "    pred_S = torch.tensor(pred_S).to(device)\n",
    "    ref_S = torch.tensor(ref_S).to(device)\n",
    "    mix_S = torch.tensor(mix_S).to(device)\n",
    "    return SDR(pred_S,ref_S) - SDR(mix_S,ref_S)\n",
    "\n",
    "\n",
    "def evaluate(model: OurUNet,\n",
    "        folder_valid,\n",
    "        loss_fn=torch.nn.L1Loss()):\n",
    "    model.eval()\n",
    "    with torch.no_grad():\n",
    "        losses = [] ; nsdrs = []\n",
    "        for i in range(datasets_sizes[folder_valid]):\n",
    "            dir = load_signal_folder(get_path(folder_valid,i),load_signals=True,load_spectrograms=True)\n",
    "            mix_signal = dir[\"mix\"][\"signal\"]\n",
    "            pred_voice_spec_abs,pred_voice_signal,pred_noise_spec_abs,pred_noise_signal = source_separation(model,mix_signal)\n",
    "            losses.append(\n",
    "                loss_fn(pred_voice_spec_abs,dir[\"voice\"][\"spectrogram\"])\n",
    "                + loss_fn(pred_noise_spec_abs,dir[\"noise\"][\"spectrogram\"]))\n",
    "            nsdrs.append(\n",
    "                NSDR(pred_voice_signal,dir[\"voice\"][\"signal\"],mix_signal)\n",
    "                + NSDR(pred_noise_signal,dir[\"noise\"][\"signal\"],mix_signal))\n",
    "        loss = torch.mean(torch.Tensor(losses))\n",
    "        nsdr = torch.mean(torch.Tensor(nsdrs))\n",
    "    model.train()\n",
    "    return loss,nsdr\n",
    "\n",
    "\n",
    "\n",
    "def train(\n",
    "        model:nn.Module,\n",
    "        n_epochs:int,\n",
    "        dataloader_train:DataLoader,\n",
    "        folder_valid:DataLoader,\n",
    "        save_path:Path,\n",
    "        loss_fn=torch.nn.L1Loss(),\n",
    "        adam_lr=1e-3):\n",
    "    optimizer = torch.optim.Adam(model.parameters(),lr=adam_lr)\n",
    "    losses = []\n",
    "    losses_valid, nsdrs_valid = [], []\n",
    "    torch.cuda.empty_cache()\n",
    "    model.train()\n",
    "    for _ in tqdm(range(n_epochs),desc=\"Training epochs\"):\n",
    "        current_losses = []\n",
    "        for voice_spec,noise_spec,mix_spec,snr in dataloader_train:\n",
    "            voice_spec = voice_spec.to(device)\n",
    "            noise_spec = noise_spec.to(device)\n",
    "            mix_spec = mix_spec.to(device)\n",
    "            optimizer.zero_grad()\n",
    "            mask = model(mix_spec)\n",
    "            pred_voice_spec = mask * mix_spec\n",
    "            pred_noise_spec = (1-mask) * mix_spec\n",
    "            loss = (loss_fn(pred_voice_spec,voice_spec)\n",
    "                + loss_fn(pred_noise_spec,noise_spec))\n",
    "            current_losses.append(loss)\n",
    "            loss.backward()\n",
    "            optimizer.step()\n",
    "        losses.append(torch.Tensor(current_losses).mean().item())\n",
    "        # Validation à chaque epoch:\n",
    "        loss_valid,nsdr_valid = evaluate(model,folder_valid,loss_fn)\n",
    "        losses_valid.append(loss_valid)\n",
    "        nsdrs_valid.append(nsdr_valid)\n",
    "\n",
    "    # Métriques\n",
    "    performances = {\n",
    "        \"training_losses\" : losses,\n",
    "        \"validation_losses\" : losses_valid,\n",
    "        \"validation_nsdrs\" : nsdrs_valid,\n",
    "        \"n_epochs\" : n_epochs\n",
    "    }\n",
    "    # Pour sauvegarder les données:\n",
    "    if not save_path.exists():\n",
    "        save_path.mkdir()\n",
    "    torch.save(model, save_path/\"model.pt\")\n",
    "    torch.save(losses, save_path/\"training_losses.pt\")\n",
    "    torch.save(losses_valid, save_path/\"validation_losses.pt\")\n",
    "    torch.save(nsdrs_valid, save_path/\"validation_nsdrs.pt\")\n",
    "    return model, performances\n",
    "\n"
   ]
  },
  {
   "cell_type": "code",
   "execution_count": 52,
   "metadata": {},
   "outputs": [],
   "source": [
    "def plot_perfs(perfs:dict,save_path:Path):\n",
    "    plt.close(\"viz\")\n",
    "    fig = plt.figure(figsize=(7,3))\n",
    "    axs = fig.subplots(1,3)\n",
    "    ax_loss: Axes = axs[0]\n",
    "    ax_valid_loss: Axes = axs[1]\n",
    "    ax_valid_nsdr: Axes = axs[2]\n",
    "    name = save_path.name.removeprefix(\"save_\")\n",
    "    fig.suptitle(f\"Performances du model : {name}\")\n",
    "\n",
    "    losses = perfs[\"training_losses\"]\n",
    "    arange = np.linspace(perfs[\"n_epochs\"],0,len(losses),endpoint=False)[::-1]\n",
    "    # Training loss:\n",
    "    ax_loss.plot(arange,losses)\n",
    "    ax_loss.set_title(\"Training Loss\")\n",
    "    ax_loss.yaxis.set_major_formatter(FormatStrFormatter(\"%.3f\"))\n",
    "    ax_loss.tick_params(axis=\"y\",labelsize=6,labelrotation=90)\n",
    "    ax_loss.locator_params(nbins=4)\n",
    "    ax_loss.set_xlabel(\"Epoch\")\n",
    "    ax_loss.xaxis.set_major_locator(MaxNLocator(integer=True))\n",
    "\n",
    "    # Validation loss:\n",
    "    ax_valid_loss.plot(arange,perfs[\"validation_losses\"])\n",
    "    ax_valid_loss.set_title(\"Validation Loss\")\n",
    "    ax_valid_loss.yaxis.set_major_formatter(FormatStrFormatter(\"%.3f\"))\n",
    "    ax_valid_loss.tick_params(axis=\"y\",labelsize=6,labelrotation=90)\n",
    "    ax_valid_loss.locator_params(nbins=4)\n",
    "    ax_valid_loss.set_xlabel(\"Epoch\")\n",
    "    ax_valid_loss.xaxis.set_major_locator(MaxNLocator(integer=True))\n",
    "\n",
    "    # Validation NSDR\n",
    "    ax_valid_nsdr.plot(arange,perfs[\"validation_nsdrs\"])\n",
    "    ax_valid_nsdr.set_title(\"Validation NSDR\")\n",
    "    ax_valid_nsdr.set_ylim([0,1])\n",
    "    ax_valid_nsdr.set_xlabel(\"Epoch\")\n",
    "    ax_valid_nsdr.xaxis.set_major_locator(MaxNLocator(integer=True))\n",
    "\n",
    "    fig.tight_layout()\n",
    "\n",
    "    plt.savefig(save_path/\"performances.png\")\n",
    "    plt.show()"
   ]
  },
  {
   "cell_type": "code",
   "execution_count": 54,
   "metadata": {},
   "outputs": [
    {
     "name": "stderr",
     "output_type": "stream",
     "text": [
      "Training epochs: 100%|██████████| 32/32 [03:03<00:00,  5.73s/it]\n"
     ]
    },
    {
     "data": {
      "application/vnd.jupyter.widget-view+json": {
       "model_id": "f7b3fb9bc2634ca8a4875e931ae687e7",
       "version_major": 2,
       "version_minor": 0
      },
      "image/png": "[encoded data removed]",
      "text/html": [
       "\n",
       "            <div style=\"display: inline-block;\">\n",
       "                <div class=\"jupyter-widgets widget-label\" style=\"text-align: center;\">\n",
       "                    Figure\n",
       "                </div>\n",
       "                <img src='data:image/png;base64,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' width=700.0/>\n",
       "            </div>\n",
       "        "
      ],
      "text/plain": [
       "Canvas(toolbar=Toolbar(toolitems=[('Home', 'Reset original view', 'home', 'home'), ('Back', 'Back to previous …"
      ]
     },
     "metadata": {},
     "output_type": "display_data"
    }
   ],
   "source": [
    "save_path = Path(\"./save_unet\")\n",
    "train_dataset = MyDataset(\n",
    "    train_small_folder,\n",
    "    load_signals=False,\n",
    "    load_spectrograms=True)\n",
    "train_dataloader = DataLoader(train_dataset,batch_size=32,shuffle=True)\n",
    "\n",
    "model,perfs = train(\n",
    "    OurUNet(),\n",
    "    32,\n",
    "    dataloader_train=train_dataloader,\n",
    "    folder_valid=train_small_folder,\n",
    "    save_path=save_path\n",
    ")\n",
    "plot_perfs(perfs,save_path=save_path)"
   ]
  },
  {
   "cell_type": "code",
   "execution_count": 73,
   "metadata": {},
   "outputs": [
    {
     "data": {
      "application/vnd.jupyter.widget-view+json": {
       "model_id": "860354403049459f9b838ffece5694d7",
       "version_major": 2,
       "version_minor": 0
      },
      "text/plain": [
       "interactive(children=(IntSlider(value=1, description='i', max=49), Output()), _dom_classes=('widget-interact',…"
      ]
     },
     "metadata": {},
     "output_type": "display_data"
    }
   ],
   "source": [
    "model.eval()\n",
    "folder = train_small_folder\n",
    "@widgets.interact(i=(0,datasets_sizes[folder]-1,1))\n",
    "def update(i=1):\n",
    "    dir = load_signal_folder(get_path(folder,i),load_signals=True,load_spectrograms=False)\n",
    "    mix_signal = dir[\"mix\"][\"signal\"]\n",
    "    make_label = lambda label : widgets.HTML(value=f\"<b>{label}</b>\")\n",
    "    make_audio = lambda signal : Audio(data=signal.T,rate=fe)\n",
    "    _,pred_voice_signal,_,pred_noise_signal = source_separation(model,mix_signal)\n",
    "    display(make_label(\"Mix Signal:\"))\n",
    "    display(make_audio(mix_signal))\n",
    "    display(make_label(\"Original voice:\"))\n",
    "    display(make_audio(dir[\"voice\"][\"signal\"]))\n",
    "    display(make_label(\"Reconstructed voice:\"))\n",
    "    display(make_audio(pred_voice_signal))\n",
    "    display(make_label(\"Original noise:\"))\n",
    "    display(make_audio(dir[\"noise\"][\"signal\"]))\n",
    "    display(make_label(\"Reconstructed noise:\"))\n",
    "    display(make_audio(pred_noise_signal))\n",
    "    # display(Audio(data=mix_signal.T,rate=fe))\n",
    "    # display(widgets.HTML(value=\"<b>Original Voice</b>\"))\n",
    "    # display(Audio(data=dir[\"voice\"][\"signal\"].T,rate=fe))\n",
    "    # label1=make_label(\"Mix Signal\")\n",
    "    # audio1=make_audio(mix_signal)\n",
    "    # hbox = widgets.HBox([\n",
    "            # widgets.VBox([label1,audio1]),\n",
    "            # widgets.VBox([make_label(\"Original Voice\"),make_audio(dir[\"voice\"][\"signal\"])]),\n",
    "        # ])\n",
    "    # display(hbox)\n",
    "\n",
    "    # widgets.HBox()"
   ]
  },
  {
   "cell_type": "code",
   "execution_count": null,
   "metadata": {},
   "outputs": [],
   "source": []
  }
 ],
 "metadata": {
  "kernelspec": {
   "display_name": "simple",
   "language": "python",
   "name": "python3"
  },
  "language_info": {
   "codemirror_mode": {
    "name": "ipython",
    "version": 3
   },
   "file_extension": ".py",
   "mimetype": "text/x-python",
   "name": "python",
   "nbconvert_exporter": "python",
   "pygments_lexer": "ipython3",
   "version": "3.10.13"
  }
 },
 "nbformat": 4,
 "nbformat_minor": 2
}
